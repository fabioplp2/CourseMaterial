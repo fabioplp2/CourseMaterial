{
 "cells": [
  {
   "cell_type": "markdown",
   "metadata": {},
   "source": [
    "# Python Naming Conventions\n",
    "\n",
    "## 1. General\n",
    "\n",
    "\n",
    "- Avoid using names that are too general or too wordy. Strike a good balance between the two.\n",
    "- Bad: data_structure, my_list, info_map, dictionary_for_the_purpose_of_storing_data_representing_word_definitions\n",
    "- Good: user_profile, menu_options, word_definitions\n",
    "- Don’t be a jackass and name things “O”, “l”, or “I”\n",
    "- When using CamelCase names, capitalize all letters of an abbreviation (e.g. HTTPServer)\n",
    "\n",
    "## 2. Packages\n",
    "\n",
    "\n",
    "- Package names should be all lower case\n",
    "- When multiple words are needed, an underscore should separate them\n",
    "- It is usually preferable to stick to 1 word names\n",
    "\n",
    "## 3. Modules\n",
    "\n",
    "\n",
    "- Module names should be all lower case\n",
    "- When multiple words are needed, an underscore should separate them\n",
    "- It is usually preferable to stick to 1 word names\n",
    "\n",
    "## 4. Classes\n",
    "\n",
    "\n",
    "- Class names should follow the UpperCaseCamelCase convention\n",
    "- Python’s built-in classes, however are typically lowercase words\n",
    "- Exception classes should end in “Error”\n",
    "\n",
    "## 5. Global (module-level) Variables\n",
    "\n",
    "\n",
    "- Global variables should be all lowercase\n",
    "- Words in a global variable name should be separated by an underscore\n",
    "\n",
    "## 6. Instance Variables\n",
    "\n",
    "\n",
    "- Instance variable names should be all lower case\n",
    "- Words in an instance variable name should be separated by an underscore\n",
    "- Non-public instance variables should begin with a single underscore\n",
    "- If an instance name needs to be mangled, two underscores may begin its name\n",
    "\n",
    "## 7. Methods\n",
    " \n",
    "\n",
    "- Method names should be all lower case\n",
    "- Words in an method name should be separated by an underscore\n",
    "- Non-public method should begin with a single underscore\n",
    "- If a method name needs to be mangled, two underscores may begin its name\n",
    "\n",
    "## 8. Method Arguments\n",
    "\n",
    "\n",
    "- Instance methods should have their first argument named ‘self’.\n",
    "- Class methods should have their first argument named ‘cls’\n",
    "\n",
    "## 9. Functions\n",
    "\n",
    "\n",
    "- Function names should be all lower case\n",
    "- Words in a function name should be separated by an underscore\n",
    "\n",
    "## 10. Constants\n",
    "\n",
    "\n",
    "- Constant names must be fully capitalized\n",
    "- Words in a constant name should be separated by an underscore"
   ]
  },
  {
   "cell_type": "markdown",
   "metadata": {},
   "source": [
    "# Data Types\n",
    "Python has five standard Data Types:\n",
    "\n",
    "- Numbers\n",
    "- String\n",
    "- List\n",
    "- Tuple\n",
    "- Dictionary"
   ]
  },
  {
   "cell_type": "markdown",
   "metadata": {},
   "source": [
    "## Numbers\n",
    "Variables will be initialized as integers or floats based on the presence of a decimal."
   ]
  },
  {
   "cell_type": "code",
   "execution_count": null,
   "metadata": {},
   "outputs": [],
   "source": [
    "num = 85\n",
    "pi = 3.14159\n",
    "print(num, type(num))\n",
    "print(pi, type(pi))"
   ]
  },
  {
   "cell_type": "markdown",
   "metadata": {},
   "source": [
    "## String\n",
    "\n",
    "Create string variables by enclosing characters in quotes. Python uses single quotes ' double quotes \" and triple quotes \"\"\" to denote literal strings."
   ]
  },
  {
   "cell_type": "code",
   "execution_count": null,
   "metadata": {
    "ExecuteTime": {
     "end_time": "2019-03-09T15:15:43.974968Z",
     "start_time": "2019-03-09T15:15:43.969984Z"
    }
   },
   "outputs": [],
   "source": [
    "firstname = 'James'\n",
    "lastname = \"Hutton\"\n",
    "print('First Name: {}, Last Name: {}'.format(firstname, lastname))"
   ]
  },
  {
   "cell_type": "markdown",
   "metadata": {
    "ExecuteTime": {
     "end_time": "2019-03-09T15:15:59.078753Z",
     "start_time": "2019-03-09T15:15:59.072769Z"
    }
   },
   "source": [
    "## List\n",
    "\n",
    "A list can contain a series of values. List variables are declared by using brackets square brackets, [ ]. "
   ]
  },
  {
   "cell_type": "code",
   "execution_count": null,
   "metadata": {
    "ExecuteTime": {
     "end_time": "2019-03-09T15:17:12.987878Z",
     "start_time": "2019-03-09T15:17:12.981927Z"
    }
   },
   "outputs": [],
   "source": [
    "firstnames = ['Thomas', 'Carl Friedrich', 'Georges']\n",
    "for firstname in firstnames:\n",
    "    print('First Name: {}'.format(firstname))"
   ]
  },
  {
   "cell_type": "markdown",
   "metadata": {},
   "source": [
    "## Tuple\n",
    "A tuple is similar to a list in several respects, but its entries and size is fixed. In this context, a tuple is considered immutable as compared to a list that is dynamic and mutable. Tuples are defined by round brackets, ()."
   ]
  },
  {
   "cell_type": "code",
   "execution_count": null,
   "metadata": {
    "ExecuteTime": {
     "end_time": "2019-03-09T15:17:50.779459Z",
     "start_time": "2019-03-09T15:17:50.773473Z"
    }
   },
   "outputs": [],
   "source": [
    "colors = ('red', 'green', 'blue')\n",
    "for color in colors:\n",
    "    print(color)\n",
    "print('third color = ', colors[2])"
   ]
  },
  {
   "cell_type": "markdown",
   "metadata": {},
   "source": [
    "## Dictionary\n",
    "\n",
    "Dictionaries in Python are lists of Key-Value pairs. They are created by using braces, ```{}```, with pairs separated by a comma and each key/value separated by a colon. In dictionaries, the Key must be unique. "
   ]
  },
  {
   "cell_type": "code",
   "execution_count": null,
   "metadata": {
    "ExecuteTime": {
     "end_time": "2019-03-09T15:18:11.106188Z",
     "start_time": "2019-03-09T15:18:11.101170Z"
    }
   },
   "outputs": [],
   "source": [
    "ranges = {'hmax': 400, 'hmin': 200, 'hvert': 10}\n",
    "print(ranges)"
   ]
  },
  {
   "cell_type": "code",
   "execution_count": null,
   "metadata": {
    "ExecuteTime": {
     "end_time": "2019-03-09T15:18:22.840778Z",
     "start_time": "2019-03-09T15:18:22.835825Z"
    }
   },
   "outputs": [],
   "source": [
    "for key, value in ranges.items():\n",
    "    print('variogram range for {} = {}'.format(key, value))"
   ]
  },
  {
   "cell_type": "markdown",
   "metadata": {},
   "source": [
    "# Class"
   ]
  },
  {
   "cell_type": "code",
   "execution_count": null,
   "metadata": {
    "ExecuteTime": {
     "end_time": "2019-03-09T02:33:50.858897Z",
     "start_time": "2019-03-09T02:33:50.854906Z"
    }
   },
   "outputs": [],
   "source": [
    "class Person():\n",
    "    \n",
    "    def __init__(self, first_name, last_name):\n",
    "        self.first_name = first_name\n",
    "        self.last_name = last_name\n",
    "        \n",
    "    def print_name(self):\n",
    "        print('{} {}'.format(self.first_name, self.last_name))"
   ]
  },
  {
   "cell_type": "code",
   "execution_count": null,
   "metadata": {
    "ExecuteTime": {
     "end_time": "2019-03-09T02:34:41.447148Z",
     "start_time": "2019-03-09T02:34:41.443159Z"
    }
   },
   "outputs": [],
   "source": [
    "person = Person('Clayton', 'Deutsch')\n",
    "person.print_name()"
   ]
  },
  {
   "cell_type": "markdown",
   "metadata": {},
   "source": [
    "# Encapsulation\n",
    "\n",
    "A language mechanism for restricting direct access to some of the object's components."
   ]
  },
  {
   "cell_type": "code",
   "execution_count": null,
   "metadata": {
    "ExecuteTime": {
     "end_time": "2019-03-09T02:31:52.645974Z",
     "start_time": "2019-03-09T02:31:52.642979Z"
    }
   },
   "outputs": [],
   "source": [
    "class Shape():\n",
    "    \n",
    "    def __init__(self):\n",
    "        self.__name = 'Base' # Private attribute\n",
    "    \n",
    "    \n",
    "    def get_size(self):\n",
    "        return self.__name"
   ]
  },
  {
   "cell_type": "code",
   "execution_count": null,
   "metadata": {
    "ExecuteTime": {
     "end_time": "2019-03-09T02:31:52.858740Z",
     "start_time": "2019-03-09T02:31:52.853742Z"
    }
   },
   "outputs": [],
   "source": [
    "my_shape = Shape()\n",
    "my_shape.get_size()"
   ]
  },
  {
   "cell_type": "markdown",
   "metadata": {},
   "source": [
    "# Generator\n",
    "\n",
    "## Generator Expression"
   ]
  },
  {
   "cell_type": "code",
   "execution_count": null,
   "metadata": {
    "ExecuteTime": {
     "end_time": "2019-03-09T15:33:24.406834Z",
     "start_time": "2019-03-09T15:33:24.392871Z"
    }
   },
   "outputs": [],
   "source": [
    "generator=(i for i in range(10))\n",
    "generator"
   ]
  },
  {
   "cell_type": "code",
   "execution_count": null,
   "metadata": {
    "ExecuteTime": {
     "end_time": "2019-03-09T15:33:28.346781Z",
     "start_time": "2019-03-09T15:33:28.341795Z"
    }
   },
   "outputs": [],
   "source": [
    "for i in generator:\n",
    "    print(i)"
   ]
  },
  {
   "cell_type": "markdown",
   "metadata": {},
   "source": [
    "## Generator Function"
   ]
  },
  {
   "cell_type": "code",
   "execution_count": null,
   "metadata": {
    "ExecuteTime": {
     "end_time": "2019-03-09T15:33:38.607100Z",
     "start_time": "2019-03-09T15:33:38.602082Z"
    }
   },
   "outputs": [],
   "source": [
    "def my_generator():\n",
    "    n = 1\n",
    "    print('This is printed first')\n",
    "    # Generator function contains yield statements\n",
    "    yield n\n",
    "\n",
    "    n += 1\n",
    "    print('This is printed second')\n",
    "    yield n\n",
    "\n",
    "    n += 1\n",
    "    print('This is printed at last')\n",
    "    yield n\n",
    "generator = my_generator()"
   ]
  },
  {
   "cell_type": "code",
   "execution_count": null,
   "metadata": {
    "ExecuteTime": {
     "end_time": "2019-03-09T15:33:39.030300Z",
     "start_time": "2019-03-09T15:33:39.024315Z"
    }
   },
   "outputs": [],
   "source": [
    "next(generator)"
   ]
  },
  {
   "cell_type": "markdown",
   "metadata": {},
   "source": [
    "# Iteration Protocol\n",
    "\n",
    "## Iterator\n",
    "Implement \\__iter\\__ and \\__next\\__ to create an iterator object. "
   ]
  },
  {
   "cell_type": "code",
   "execution_count": null,
   "metadata": {
    "ExecuteTime": {
     "end_time": "2019-03-09T15:33:41.582835Z",
     "start_time": "2019-03-09T15:33:41.574856Z"
    }
   },
   "outputs": [],
   "source": [
    "class ExampleIterator:\n",
    "    \n",
    "    def __init__(self, data):\n",
    "        self.index = 0\n",
    "        self.data = data\n",
    "        \n",
    "    def __iter__(self):\n",
    "        return self\n",
    "    \n",
    "    def __next__(self):\n",
    "        if self.index >= len(self.data):\n",
    "            raise StopIteration()\n",
    "            \n",
    "        result = self.data[self.index]\n",
    "        self.index += 1\n",
    "        return result"
   ]
  },
  {
   "cell_type": "code",
   "execution_count": null,
   "metadata": {
    "ExecuteTime": {
     "end_time": "2019-03-09T15:33:43.930080Z",
     "start_time": "2019-03-09T15:33:43.926083Z"
    }
   },
   "outputs": [],
   "source": [
    "iterator = ExampleIterator([1,2,3,4,5,6,7,8])"
   ]
  },
  {
   "cell_type": "code",
   "execution_count": null,
   "metadata": {
    "ExecuteTime": {
     "end_time": "2019-03-09T15:33:44.555338Z",
     "start_time": "2019-03-09T15:33:44.550359Z"
    }
   },
   "outputs": [],
   "source": [
    "next(iterator)"
   ]
  },
  {
   "cell_type": "code",
   "execution_count": null,
   "metadata": {
    "ExecuteTime": {
     "end_time": "2019-03-09T15:33:45.099642Z",
     "start_time": "2019-03-09T15:33:45.093698Z"
    }
   },
   "outputs": [],
   "source": [
    "for i in iterator:\n",
    "    print(i)"
   ]
  },
  {
   "cell_type": "markdown",
   "metadata": {},
   "source": [
    "## Iterable"
   ]
  },
  {
   "cell_type": "code",
   "execution_count": null,
   "metadata": {
    "ExecuteTime": {
     "end_time": "2019-03-09T15:33:46.109704Z",
     "start_time": "2019-03-09T15:33:46.105714Z"
    }
   },
   "outputs": [],
   "source": [
    "class ExampleIterable:\n",
    "    \n",
    "    def __init__(self):\n",
    "        self.data = [1,2,3,4,5,6]\n",
    "      \n",
    "    def __iter__(self):\n",
    "        return ExampleIterator(self.data)\n",
    "    \n",
    "#     def __getitem__(self, idx):\n",
    "#         return self.data[idx]"
   ]
  },
  {
   "cell_type": "code",
   "execution_count": null,
   "metadata": {
    "ExecuteTime": {
     "end_time": "2019-03-09T15:36:51.873086Z",
     "start_time": "2019-03-09T15:36:51.868107Z"
    }
   },
   "outputs": [],
   "source": [
    "iterator = ExampleIterable()\n",
    "iterator"
   ]
  },
  {
   "cell_type": "code",
   "execution_count": null,
   "metadata": {
    "ExecuteTime": {
     "end_time": "2019-03-09T15:37:01.723317Z",
     "start_time": "2019-03-09T15:37:01.716337Z"
    },
    "scrolled": true
   },
   "outputs": [],
   "source": [
    "for i in iter(iterator):\n",
    "    print(i)"
   ]
  },
  {
   "cell_type": "markdown",
   "metadata": {
    "ExecuteTime": {
     "end_time": "2019-03-09T02:45:36.987870Z",
     "start_time": "2019-03-09T02:45:36.961908Z"
    }
   },
   "source": [
    "This helps to address the confusion about the following related concepts:\n",
    "- a container\n",
    "- an iterable\n",
    "- an iterator\n",
    "- a generator\n",
    "- a generator expression\n",
    "- a {list, set, dict} comprehension\n",
    "\n",
    "![alt text](https://nvie.com/img/relationships.png \"iterators-vs-generators\")"
   ]
  },
  {
   "cell_type": "markdown",
   "metadata": {},
   "source": [
    "# Map, filter and reduce\n",
    "\n",
    "\n",
    "## Map\n",
    "- Map is used to map a list of arguments to a function. Map is lazy as it only produces values as they are needed (returns a generator)."
   ]
  },
  {
   "cell_type": "code",
   "execution_count": null,
   "metadata": {
    "ExecuteTime": {
     "end_time": "2019-03-09T15:33:56.062795Z",
     "start_time": "2019-03-09T15:33:56.057810Z"
    }
   },
   "outputs": [],
   "source": [
    "ord('A')"
   ]
  },
  {
   "cell_type": "code",
   "execution_count": null,
   "metadata": {
    "ExecuteTime": {
     "end_time": "2019-03-09T15:33:56.689672Z",
     "start_time": "2019-03-09T15:33:56.683688Z"
    }
   },
   "outputs": [],
   "source": [
    "print(ord.__doc__)"
   ]
  },
  {
   "cell_type": "code",
   "execution_count": null,
   "metadata": {
    "ExecuteTime": {
     "end_time": "2019-03-09T15:33:57.075162Z",
     "start_time": "2019-03-09T15:33:57.071176Z"
    }
   },
   "outputs": [],
   "source": [
    "generator = map(ord, 'Clayton')"
   ]
  },
  {
   "cell_type": "code",
   "execution_count": null,
   "metadata": {
    "ExecuteTime": {
     "end_time": "2019-03-09T15:33:57.430220Z",
     "start_time": "2019-03-09T15:33:57.426229Z"
    }
   },
   "outputs": [],
   "source": [
    "for item in generator:\n",
    "    print(item)"
   ]
  },
  {
   "cell_type": "code",
   "execution_count": null,
   "metadata": {
    "ExecuteTime": {
     "end_time": "2019-03-09T15:33:57.829605Z",
     "start_time": "2019-03-09T15:33:57.826608Z"
    }
   },
   "outputs": [],
   "source": [
    "def combine(size, color, animal):\n",
    "    return '{} {} {}'.format(size, color, animal)"
   ]
  },
  {
   "cell_type": "code",
   "execution_count": null,
   "metadata": {
    "ExecuteTime": {
     "end_time": "2019-03-09T15:33:58.286684Z",
     "start_time": "2019-03-09T15:33:58.281698Z"
    }
   },
   "outputs": [],
   "source": [
    "sizes=['small', 'medium', 'large']\n",
    "colors = ['lavender', 'teal', 'orange']\n",
    "animals = ['koala', 'platypus', 'salamander']\n",
    "result = map(combine, sizes, colors,animals)"
   ]
  },
  {
   "cell_type": "code",
   "execution_count": null,
   "metadata": {
    "ExecuteTime": {
     "end_time": "2019-03-09T15:33:58.590420Z",
     "start_time": "2019-03-09T15:33:58.585466Z"
    }
   },
   "outputs": [],
   "source": [
    "list(result)"
   ]
  },
  {
   "cell_type": "markdown",
   "metadata": {},
   "source": [
    "## Filter\n",
    "- Filter works by applying a function to passed argument. The function must accept single argument and return a logical value (i.e. True or False). The output return the input items that pass the check. The filter function returns a generator like map function."
   ]
  },
  {
   "cell_type": "code",
   "execution_count": null,
   "metadata": {
    "ExecuteTime": {
     "end_time": "2019-03-09T15:33:59.506183Z",
     "start_time": "2019-03-09T15:33:59.500199Z"
    }
   },
   "outputs": [],
   "source": [
    "my_list =[1,-5,-8,3,8,0]\n",
    "positives = filter (lambda x: x>0, my_list)\n",
    "list(positives)"
   ]
  },
  {
   "cell_type": "markdown",
   "metadata": {},
   "source": [
    "## Reduce function\n",
    "\n",
    "Acts like aggregation and it needs a method to apply over a list or an iterator"
   ]
  },
  {
   "cell_type": "code",
   "execution_count": null,
   "metadata": {
    "ExecuteTime": {
     "end_time": "2019-03-09T15:34:00.554799Z",
     "start_time": "2019-03-09T15:34:00.549779Z"
    }
   },
   "outputs": [],
   "source": [
    "from functools import reduce\n",
    "import operator\n"
   ]
  },
  {
   "cell_type": "code",
   "execution_count": null,
   "metadata": {
    "ExecuteTime": {
     "end_time": "2019-03-09T15:34:00.976776Z",
     "start_time": "2019-03-09T15:34:00.971800Z"
    }
   },
   "outputs": [],
   "source": [
    "reduce(operator.concat,['Clayton', ' ', 'Deutsch'])"
   ]
  },
  {
   "cell_type": "code",
   "execution_count": null,
   "metadata": {
    "ExecuteTime": {
     "end_time": "2019-03-09T15:34:01.467643Z",
     "start_time": "2019-03-09T15:34:01.462656Z"
    }
   },
   "outputs": [],
   "source": [
    "reduce(operator.add,[1,3,5,7,9])"
   ]
  },
  {
   "cell_type": "markdown",
   "metadata": {},
   "source": [
    "## Map-Reduce"
   ]
  },
  {
   "cell_type": "code",
   "execution_count": null,
   "metadata": {
    "ExecuteTime": {
     "end_time": "2019-03-09T15:34:02.563618Z",
     "start_time": "2019-03-09T15:34:02.557601Z"
    }
   },
   "outputs": [],
   "source": [
    "# Create the function that gives you the word count\n",
    "def count_words(doc):\n",
    "    normalizes_doc = ''.join(c.lower() if c.isalpha() else ' ' for c in doc)\n",
    "    ferquencies = {}\n",
    "    for word in normalizes_doc.split():\n",
    "        ferquencies[word] = ferquencies.get(word,0) + 1\n",
    "    return ferquencies"
   ]
  },
  {
   "cell_type": "code",
   "execution_count": null,
   "metadata": {
    "ExecuteTime": {
     "end_time": "2019-03-09T15:34:03.329597Z",
     "start_time": "2019-03-09T15:34:03.323580Z"
    }
   },
   "outputs": [],
   "source": [
    "count_words('It was the best of times, it was the worst of times.')"
   ]
  },
  {
   "cell_type": "code",
   "execution_count": null,
   "metadata": {
    "ExecuteTime": {
     "end_time": "2019-03-09T15:34:03.711453Z",
     "start_time": "2019-03-09T15:34:03.707466Z"
    }
   },
   "outputs": [],
   "source": [
    "documents=[\n",
    "    'It was the best of times, it was the worst of times.'\n",
    "    ,'I believe in uncertainty'\n",
    "    ,'Few are those who see with their own eyes and feel with their own hearts.'\n",
    "    ,'Unthinking respect for authority is the greatest enemy of truth.'\n",
    "    ,'Everybody is a genius. But if you judge a fish by its ability to climb a tree, it will live its whole life believing that it is stupid.'\n",
    "]"
   ]
  },
  {
   "cell_type": "code",
   "execution_count": null,
   "metadata": {
    "ExecuteTime": {
     "end_time": "2019-03-09T15:34:04.261822Z",
     "start_time": "2019-03-09T15:34:04.257796Z"
    }
   },
   "outputs": [],
   "source": [
    "counts = map(count_words,documents)"
   ]
  },
  {
   "cell_type": "code",
   "execution_count": null,
   "metadata": {
    "ExecuteTime": {
     "end_time": "2019-03-09T15:34:04.720236Z",
     "start_time": "2019-03-09T15:34:04.717208Z"
    }
   },
   "outputs": [],
   "source": [
    "# Create a function to combine two dictionaries\n",
    "def combine_counts(d1,d2):\n",
    "    d =d1.copy()\n",
    "    for word, count in d2.items():\n",
    "        d[word] = d.get(word,0) + count\n",
    "    return d"
   ]
  },
  {
   "cell_type": "code",
   "execution_count": null,
   "metadata": {
    "ExecuteTime": {
     "end_time": "2019-03-09T15:34:05.373801Z",
     "start_time": "2019-03-09T15:34:05.366818Z"
    }
   },
   "outputs": [],
   "source": [
    "total_counts = reduce(combine_counts, counts)\n",
    "total_counts"
   ]
  },
  {
   "cell_type": "markdown",
   "metadata": {},
   "source": [
    "# Property"
   ]
  },
  {
   "cell_type": "code",
   "execution_count": null,
   "metadata": {
    "ExecuteTime": {
     "end_time": "2019-03-09T15:34:06.769726Z",
     "start_time": "2019-03-09T15:34:06.764772Z"
    }
   },
   "outputs": [],
   "source": [
    "class shape():\n",
    "    \n",
    "    def __init__(self):\n",
    "        self.__name = 'Base' # Private attribute\n",
    "    \n",
    "    \n",
    "    def __get_name(self):\n",
    "        return self.__name\n",
    "    \n",
    "    def __set_name(self,value):\n",
    "        if isinstance(value, str):\n",
    "            self.__name = value\n",
    "        else:\n",
    "            raise ValueError('Invalid value provdided')\n",
    "            \n",
    "    name = property(__get_name, __set_name) # USe accessor and mutator to control the property"
   ]
  },
  {
   "cell_type": "code",
   "execution_count": null,
   "metadata": {
    "ExecuteTime": {
     "end_time": "2019-03-09T15:34:07.627144Z",
     "start_time": "2019-03-09T15:34:07.622159Z"
    }
   },
   "outputs": [],
   "source": [
    "my_shape = shape()\n",
    "my_shape.name"
   ]
  },
  {
   "cell_type": "code",
   "execution_count": null,
   "metadata": {
    "ExecuteTime": {
     "end_time": "2019-03-09T15:34:10.349176Z",
     "start_time": "2019-03-09T15:34:10.333249Z"
    },
    "scrolled": false
   },
   "outputs": [],
   "source": [
    "my_shape.name=3"
   ]
  },
  {
   "cell_type": "markdown",
   "metadata": {},
   "source": [
    "## Introspection to get list of properties"
   ]
  },
  {
   "cell_type": "code",
   "execution_count": null,
   "metadata": {
    "ExecuteTime": {
     "end_time": "2019-03-09T15:34:14.168815Z",
     "start_time": "2019-03-09T15:34:14.161798Z"
    }
   },
   "outputs": [],
   "source": [
    "[p for p in dir(shape) if isinstance(getattr(shape,p),property)]"
   ]
  },
  {
   "cell_type": "markdown",
   "metadata": {},
   "source": [
    "# Inheritance"
   ]
  },
  {
   "cell_type": "code",
   "execution_count": null,
   "metadata": {
    "ExecuteTime": {
     "end_time": "2019-03-09T15:59:21.827571Z",
     "start_time": "2019-03-09T15:59:21.820588Z"
    }
   },
   "outputs": [],
   "source": [
    "class SimpleList():\n",
    "    \n",
    "    def __init__(self, items):\n",
    "        self._items = list(items)\n",
    "        \n",
    "    def add(self, item):\n",
    "        self._items.append(item)\n",
    "        \n",
    "    def __getitem__(self, index): # iterable protocol plus indexing and slicing\n",
    "        return self._items[index]\n",
    "    \n",
    "    def sort(self):\n",
    "        self._items.sort()\n",
    "      \n",
    "    def __len__(self):\n",
    "        return len(self._items)\n",
    "    \n",
    "    def __str__(self):\n",
    "        return 'A simple list'\n",
    "    \n",
    "    def __repr__(self): # Provide rich info on how to use the object (Audiance is another developer)\n",
    "        return 'SimpleList({!r})'.format(self._items)"
   ]
  },
  {
   "cell_type": "code",
   "execution_count": null,
   "metadata": {
    "ExecuteTime": {
     "end_time": "2019-03-09T15:59:22.030153Z",
     "start_time": "2019-03-09T15:59:22.025167Z"
    }
   },
   "outputs": [],
   "source": [
    "sl = SimpleList([4,3,78,9])\n",
    "sl.add(89)\n",
    "for item in sl:\n",
    "    print(item)"
   ]
  },
  {
   "cell_type": "markdown",
   "metadata": {},
   "source": [
    "## Polymorphism"
   ]
  },
  {
   "cell_type": "code",
   "execution_count": null,
   "metadata": {
    "ExecuteTime": {
     "end_time": "2019-03-09T15:59:22.794018Z",
     "start_time": "2019-03-09T15:59:22.787006Z"
    }
   },
   "outputs": [],
   "source": [
    "class SortedList(SimpleList):\n",
    "    \n",
    "    def __init__(self, items=()):\n",
    "        super().__init__(items)\n",
    "        self.sort()\n",
    "        \n",
    "    def add(self, item): # Overide the base method and implment polymorphism\n",
    "        super().add(item)\n",
    "        self.sort()\n",
    "        \n",
    "    def __str__(self):\n",
    "        return 'A sorted simple list'\n",
    "    \n",
    "    def __repr__(self):\n",
    "        return 'SortedList({!r})'.format(list(self))"
   ]
  },
  {
   "cell_type": "code",
   "execution_count": null,
   "metadata": {
    "ExecuteTime": {
     "end_time": "2019-03-09T15:59:23.020625Z",
     "start_time": "2019-03-09T15:59:23.016633Z"
    }
   },
   "outputs": [],
   "source": [
    "sl = SortedList([4,3,78,9])\n",
    "print(sl)"
   ]
  },
  {
   "cell_type": "code",
   "execution_count": null,
   "metadata": {
    "ExecuteTime": {
     "end_time": "2019-03-09T15:59:23.388548Z",
     "start_time": "2019-03-09T15:59:23.384514Z"
    }
   },
   "outputs": [],
   "source": [
    "isinstance(sl,SimpleList)"
   ]
  },
  {
   "cell_type": "code",
   "execution_count": null,
   "metadata": {
    "ExecuteTime": {
     "end_time": "2019-03-09T15:59:23.946834Z",
     "start_time": "2019-03-09T15:59:23.939818Z"
    }
   },
   "outputs": [],
   "source": [
    "issubclass(SortedList,SimpleList)"
   ]
  },
  {
   "cell_type": "code",
   "execution_count": null,
   "metadata": {
    "ExecuteTime": {
     "end_time": "2019-03-09T15:59:24.441552Z",
     "start_time": "2019-03-09T15:59:24.435572Z"
    }
   },
   "outputs": [],
   "source": [
    "sl.add(89)\n",
    "for item in sl:\n",
    "    print(item)"
   ]
  },
  {
   "cell_type": "code",
   "execution_count": null,
   "metadata": {
    "ExecuteTime": {
     "end_time": "2019-03-09T15:59:24.695599Z",
     "start_time": "2019-03-09T15:59:24.689629Z"
    }
   },
   "outputs": [],
   "source": [
    "class IntList(SimpleList):\n",
    "    \n",
    "    def __init__(self, items=()):\n",
    "        \n",
    "        for item in items:\n",
    "            self._validate(item)\n",
    "        super().__init__(items)\n",
    "    \n",
    "    @staticmethod\n",
    "    def _validate(x):\n",
    "        if not isinstance(x, int):\n",
    "            raise TypeError('IntList only supports integer value')\n",
    "            \n",
    "    def add (self, item):\n",
    "        self._validate(item)\n",
    "        super().add(item)\n",
    "    \n",
    "    def __str__(self):\n",
    "        return 'A sorted simple list of integers'\n",
    "    \n",
    "    def __repr__(self):\n",
    "        return 'IntList({!r})'.format(list(self))"
   ]
  },
  {
   "cell_type": "code",
   "execution_count": null,
   "metadata": {
    "ExecuteTime": {
     "end_time": "2019-03-09T15:59:25.089171Z",
     "start_time": "2019-03-09T15:59:25.085214Z"
    }
   },
   "outputs": [],
   "source": [
    "il = IntList([1,2,3,4,6])"
   ]
  },
  {
   "cell_type": "code",
   "execution_count": null,
   "metadata": {
    "ExecuteTime": {
     "end_time": "2019-03-09T15:59:25.471667Z",
     "start_time": "2019-03-09T15:59:25.457713Z"
    },
    "scrolled": false
   },
   "outputs": [],
   "source": [
    "il.add(5.3)"
   ]
  },
  {
   "cell_type": "markdown",
   "metadata": {},
   "source": [
    "## Multiple inheritance"
   ]
  },
  {
   "cell_type": "code",
   "execution_count": null,
   "metadata": {
    "ExecuteTime": {
     "end_time": "2019-03-09T15:59:26.340147Z",
     "start_time": "2019-03-09T15:59:26.337163Z"
    }
   },
   "outputs": [],
   "source": [
    "class SortedIntList(IntList, SortedList):\n",
    "    \n",
    "    def __repr__(self):\n",
    "        return 'SortedIntList({!r})'.format(list(self))"
   ]
  },
  {
   "cell_type": "code",
   "execution_count": null,
   "metadata": {
    "ExecuteTime": {
     "end_time": "2019-03-09T15:59:26.566982Z",
     "start_time": "2019-03-09T15:59:26.560960Z"
    }
   },
   "outputs": [],
   "source": [
    "SortedIntList.__mro__"
   ]
  },
  {
   "cell_type": "code",
   "execution_count": null,
   "metadata": {
    "ExecuteTime": {
     "end_time": "2019-03-09T15:59:26.829413Z",
     "start_time": "2019-03-09T15:59:26.824474Z"
    }
   },
   "outputs": [],
   "source": [
    "sil = SortedIntList([5,15,10])\n",
    "sil"
   ]
  },
  {
   "cell_type": "code",
   "execution_count": null,
   "metadata": {
    "ExecuteTime": {
     "end_time": "2019-03-09T15:59:27.294702Z",
     "start_time": "2019-03-09T15:59:27.289681Z"
    }
   },
   "outputs": [],
   "source": [
    "sil.add"
   ]
  },
  {
   "cell_type": "code",
   "execution_count": null,
   "metadata": {
    "ExecuteTime": {
     "end_time": "2019-03-09T15:59:27.729761Z",
     "start_time": "2019-03-09T15:59:27.714768Z"
    }
   },
   "outputs": [],
   "source": [
    "sil.add(20.1)\n"
   ]
  },
  {
   "cell_type": "code",
   "execution_count": null,
   "metadata": {
    "ExecuteTime": {
     "end_time": "2019-03-09T15:59:28.108557Z",
     "start_time": "2019-03-09T15:59:28.104600Z"
    }
   },
   "outputs": [],
   "source": [
    "super(SortedList, sil).add"
   ]
  },
  {
   "cell_type": "markdown",
   "metadata": {},
   "source": [
    "super(class, instance_of_class)\n",
    "\n",
    "Python finds the MRO for the tpe of the second argument (instance of a class)\n",
    "Finds the location of the first argument in the MRO\n",
    "Uses everything after that for resolving methods"
   ]
  },
  {
   "cell_type": "code",
   "execution_count": null,
   "metadata": {
    "ExecuteTime": {
     "end_time": "2019-03-09T15:59:28.770270Z",
     "start_time": "2019-03-09T15:59:28.767275Z"
    }
   },
   "outputs": [],
   "source": [
    "super(SortedList, sil).add('I am not a number! I am a free man')"
   ]
  },
  {
   "cell_type": "code",
   "execution_count": null,
   "metadata": {
    "ExecuteTime": {
     "end_time": "2019-03-09T15:59:29.007640Z",
     "start_time": "2019-03-09T15:59:29.004644Z"
    }
   },
   "outputs": [],
   "source": [
    "for item in sil:\n",
    "    print(item)"
   ]
  },
  {
   "cell_type": "markdown",
   "metadata": {},
   "source": [
    "# Error Handeling"
   ]
  },
  {
   "cell_type": "markdown",
   "metadata": {},
   "source": [
    "## The type of exception should be determined"
   ]
  },
  {
   "cell_type": "code",
   "execution_count": null,
   "metadata": {
    "ExecuteTime": {
     "end_time": "2019-03-09T16:02:02.474336Z",
     "start_time": "2019-03-09T16:02:02.467389Z"
    },
    "code_folding": []
   },
   "outputs": [],
   "source": [
    "import numpy as np\n",
    "def lucky_guess():\n",
    "    number = np.random.randint(1,100)\n",
    "    while True:\n",
    "        try:\n",
    "            guess = int(input('Input Number: '))\n",
    "        except: # ValueError\n",
    "            continue\n",
    "        if guess == number:\n",
    "            print('You Wone!')\n",
    "            break\n",
    "        elif abs(guess-number) < 0.4**number:\n",
    "            print('Close!')\n",
    "        else:\n",
    "            print('Too far!')"
   ]
  },
  {
   "cell_type": "code",
   "execution_count": null,
   "metadata": {
    "ExecuteTime": {
     "end_time": "2019-03-09T16:02:10.946471Z",
     "start_time": "2019-03-09T16:02:05.580196Z"
    }
   },
   "outputs": [],
   "source": [
    "lucky_guess()"
   ]
  },
  {
   "cell_type": "markdown",
   "metadata": {
    "ExecuteTime": {
     "end_time": "2019-02-24T03:26:24.466782Z",
     "start_time": "2019-02-24T03:26:24.430842Z"
    }
   },
   "source": [
    "## Python Exception Hierarchy\n",
    "![alt text](https://o7planning.org/en/11421/cache/images/i/7601427.png \"Python Exception Hierarchy\")"
   ]
  },
  {
   "cell_type": "code",
   "execution_count": null,
   "metadata": {
    "ExecuteTime": {
     "end_time": "2019-02-24T03:21:30.006595Z",
     "start_time": "2019-02-24T03:21:30.001614Z"
    },
    "scrolled": true
   },
   "outputs": [],
   "source": [
    "IndexError.mro()"
   ]
  },
  {
   "cell_type": "markdown",
   "metadata": {},
   "source": [
    "## Create a new Exception"
   ]
  },
  {
   "cell_type": "code",
   "execution_count": null,
   "metadata": {
    "ExecuteTime": {
     "end_time": "2019-02-24T17:03:34.917909Z",
     "start_time": "2019-02-24T17:03:34.908970Z"
    }
   },
   "outputs": [],
   "source": [
    "import math\n",
    "\n",
    "# Even with just using pass instead of overiding, inheritance from Exception, we have a fully functioning exception\n",
    "class TriangleError(Exception):\n",
    "    def __init__(self, text, sides):\n",
    "        super().__init__(text)\n",
    "        self._sides = tuple(sides)\n",
    "    \n",
    "    @property # make it read only\n",
    "    def sides(self):\n",
    "        return self._sides\n",
    "    \n",
    "    # By inheritance from Exception class, you have access to __init__ arguments through self.args\n",
    "    def __str__(self):\n",
    "        return \"'{}' for sides {}\".format(self.args[0], self._sides)\n",
    "    \n",
    "    def __repr__(self):\n",
    "        return \"TriangleError ({!r}, {!r})\".format(self.args[0], self._sides)\n",
    "    \n",
    "def triangle_area(a,b,c):\n",
    "    sides = sorted((a,b,c))\n",
    "    if sides[2] > sides[0] + sides[1]:\n",
    "        raise TriangleError ('Illegar triangle...', sides)\n",
    "    p = (a+b+c)*0.5\n",
    "    a = math.sqrt(p*(p-a)*(p-b)*(p-c))\n",
    "    return a"
   ]
  },
  {
   "cell_type": "code",
   "execution_count": null,
   "metadata": {
    "ExecuteTime": {
     "end_time": "2019-02-24T17:03:35.360512Z",
     "start_time": "2019-02-24T17:03:35.348540Z"
    }
   },
   "outputs": [],
   "source": [
    "triangle_area(3,4,10)"
   ]
  },
  {
   "cell_type": "markdown",
   "metadata": {},
   "source": [
    "## Implicit Chaining\n",
    "\n",
    "When one exception occurs while the other one being processed, \\__context\\__ of the most recent one is attached to the previous exception to keep track of exception chaining. In this way, Python gives you all the exceptions that happened during running your code"
   ]
  },
  {
   "cell_type": "code",
   "execution_count": null,
   "metadata": {
    "ExecuteTime": {
     "end_time": "2019-02-24T17:03:39.066387Z",
     "start_time": "2019-02-24T17:03:39.061397Z"
    }
   },
   "outputs": [],
   "source": [
    "import sys\n",
    "def main():\n",
    "    try:\n",
    "        a = triangle_area(3,4,10)\n",
    "        print(a)\n",
    "    except TriangleError as e:\n",
    "        print(e, file = sys.stdin)"
   ]
  },
  {
   "cell_type": "code",
   "execution_count": null,
   "metadata": {
    "ExecuteTime": {
     "end_time": "2019-02-24T17:03:46.318689Z",
     "start_time": "2019-02-24T17:03:46.299776Z"
    }
   },
   "outputs": [],
   "source": [
    "main()"
   ]
  },
  {
   "cell_type": "code",
   "execution_count": null,
   "metadata": {
    "ExecuteTime": {
     "end_time": "2019-02-24T17:04:26.664116Z",
     "start_time": "2019-02-24T17:04:26.659129Z"
    }
   },
   "outputs": [],
   "source": [
    "import sys\n",
    "import io\n",
    "def main():\n",
    "    try:\n",
    "        a = triangle_area(3,4,10)\n",
    "        print(a)\n",
    "    except TriangleError as e:\n",
    "        try:\n",
    "            print(e, file = sys.stdin)\n",
    "        except io.UnsupportedOperation as f:\n",
    "            print(e)\n",
    "            print(f)\n",
    "            print(f.__context__ is e)"
   ]
  },
  {
   "cell_type": "code",
   "execution_count": null,
   "metadata": {
    "ExecuteTime": {
     "end_time": "2019-02-24T17:04:26.901430Z",
     "start_time": "2019-02-24T17:04:26.897432Z"
    },
    "scrolled": false
   },
   "outputs": [],
   "source": [
    "main()"
   ]
  },
  {
   "cell_type": "markdown",
   "metadata": {},
   "source": [
    "## Explicit Chaining"
   ]
  },
  {
   "cell_type": "code",
   "execution_count": null,
   "metadata": {
    "ExecuteTime": {
     "end_time": "2019-02-24T16:47:09.426550Z",
     "start_time": "2019-02-24T16:47:09.421563Z"
    }
   },
   "outputs": [],
   "source": [
    "import math\n",
    "\n",
    "class InclinationError(Exception):\n",
    "    pass\n",
    "\n",
    "def inclination(dx, dy):\n",
    "    try:\n",
    "        return math.degrees(math.atan(dy/dx))\n",
    "    except ZeroDivisionError as e:\n",
    "        raise InclinationError(\"Slope cannot ve vertical\") from e"
   ]
  },
  {
   "cell_type": "code",
   "execution_count": null,
   "metadata": {
    "ExecuteTime": {
     "end_time": "2019-02-24T16:47:22.158919Z",
     "start_time": "2019-02-24T16:47:22.140905Z"
    }
   },
   "outputs": [],
   "source": [
    "inclination(0,5)"
   ]
  },
  {
   "cell_type": "markdown",
   "metadata": {},
   "source": [
    "# Introspection\n",
    "\n",
    "In computer programming, introspection is the ability to determine the type of an object at runtime. It is one of Python’s strengths. Everything in Python is an object and we can examine those objects. Python ships with a few built-in functions and modules to help us"
   ]
  },
  {
   "cell_type": "code",
   "execution_count": null,
   "metadata": {
    "ExecuteTime": {
     "end_time": "2019-03-12T01:08:23.941508Z",
     "start_time": "2019-03-12T01:08:23.930103Z"
    }
   },
   "outputs": [],
   "source": [
    "i=1\n",
    "type(i)"
   ]
  },
  {
   "cell_type": "code",
   "execution_count": null,
   "metadata": {
    "ExecuteTime": {
     "end_time": "2019-03-12T01:08:24.691884Z",
     "start_time": "2019-03-12T01:08:24.686427Z"
    }
   },
   "outputs": [],
   "source": [
    "dir(i)"
   ]
  },
  {
   "cell_type": "code",
   "execution_count": null,
   "metadata": {
    "ExecuteTime": {
     "end_time": "2019-03-12T01:08:36.543002Z",
     "start_time": "2019-03-12T01:08:36.537049Z"
    }
   },
   "outputs": [],
   "source": [
    "getattr(i,'denominator')"
   ]
  },
  {
   "cell_type": "code",
   "execution_count": null,
   "metadata": {
    "ExecuteTime": {
     "end_time": "2019-03-12T01:08:52.929692Z",
     "start_time": "2019-03-12T01:08:52.924203Z"
    }
   },
   "outputs": [],
   "source": [
    "hasattr(i,'denominator')"
   ]
  },
  {
   "cell_type": "code",
   "execution_count": null,
   "metadata": {
    "ExecuteTime": {
     "end_time": "2019-03-12T01:08:53.395861Z",
     "start_time": "2019-03-12T01:08:53.391397Z"
    }
   },
   "outputs": [],
   "source": [
    "callable(getattr(i, 'conjugate'))"
   ]
  },
  {
   "cell_type": "code",
   "execution_count": null,
   "metadata": {
    "ExecuteTime": {
     "end_time": "2019-03-12T01:09:48.820909Z",
     "start_time": "2019-03-12T01:09:48.815951Z"
    }
   },
   "outputs": [],
   "source": [
    "import pygeostat as gs\n",
    "gs.DataFile.__class__.__name__"
   ]
  },
  {
   "cell_type": "code",
   "execution_count": null,
   "metadata": {
    "ExecuteTime": {
     "end_time": "2019-03-12T01:10:04.986125Z",
     "start_time": "2019-03-12T01:10:04.981208Z"
    }
   },
   "outputs": [],
   "source": [
    "gs.DataFile.writefile.__class__.__name__"
   ]
  },
  {
   "cell_type": "markdown",
   "metadata": {},
   "source": [
    "## Introspection scope\n",
    "\n",
    "- globals: use this function to get a dictionary that shows the binding of objects and their value within the global scope\n",
    "- locals: use this function to get a dictionary that shows the binding of objects and their value within the local scope"
   ]
  },
  {
   "cell_type": "code",
   "execution_count": null,
   "metadata": {
    "ExecuteTime": {
     "end_time": "2019-03-12T01:11:19.991675Z",
     "start_time": "2019-03-12T01:11:19.975802Z"
    }
   },
   "outputs": [],
   "source": [
    "globals()"
   ]
  },
  {
   "cell_type": "code",
   "execution_count": null,
   "metadata": {
    "ExecuteTime": {
     "end_time": "2019-03-12T01:11:37.567213Z",
     "start_time": "2019-03-12T01:11:37.562282Z"
    }
   },
   "outputs": [],
   "source": [
    "a = 43\n",
    "globals()"
   ]
  },
  {
   "cell_type": "code",
   "execution_count": null,
   "metadata": {
    "ExecuteTime": {
     "end_time": "2019-03-12T01:12:15.921020Z",
     "start_time": "2019-03-12T01:12:15.916060Z"
    }
   },
   "outputs": [],
   "source": [
    "name = \"John\"\n",
    "age = 26\n",
    "country = 'Canada'\n",
    "\"{name} is {age} years old from {country}\".format(**locals())"
   ]
  },
  {
   "cell_type": "markdown",
   "metadata": {},
   "source": [
    "## Inspect Module"
   ]
  },
  {
   "cell_type": "code",
   "execution_count": null,
   "metadata": {
    "ExecuteTime": {
     "end_time": "2019-03-12T01:13:12.851095Z",
     "start_time": "2019-03-12T01:13:12.844677Z"
    }
   },
   "outputs": [],
   "source": [
    "import inspect\n",
    "print(inspect.__doc__)"
   ]
  },
  {
   "cell_type": "code",
   "execution_count": null,
   "metadata": {
    "ExecuteTime": {
     "end_time": "2019-03-12T01:14:29.331769Z",
     "start_time": "2019-03-12T01:14:28.191620Z"
    }
   },
   "outputs": [],
   "source": [
    "import pygeostat as gs\n",
    "inspect.ismodule(gs)"
   ]
  },
  {
   "cell_type": "code",
   "execution_count": null,
   "metadata": {
    "ExecuteTime": {
     "end_time": "2019-03-12T01:14:38.613846Z",
     "start_time": "2019-03-12T01:14:38.552817Z"
    }
   },
   "outputs": [],
   "source": [
    "inspect.getmembers(gs)"
   ]
  },
  {
   "cell_type": "code",
   "execution_count": null,
   "metadata": {
    "ExecuteTime": {
     "end_time": "2019-03-12T01:14:51.652290Z",
     "start_time": "2019-03-12T01:14:51.646834Z"
    }
   },
   "outputs": [],
   "source": [
    "inspect.getmembers(gs, inspect.isclass)"
   ]
  },
  {
   "cell_type": "code",
   "execution_count": null,
   "metadata": {
    "ExecuteTime": {
     "end_time": "2019-03-12T01:15:33.080395Z",
     "start_time": "2019-03-12T01:15:33.075473Z"
    }
   },
   "outputs": [],
   "source": [
    "init_sig = inspect.signature(gs.DataFile)\n",
    "init_sig.parameters"
   ]
  },
  {
   "cell_type": "markdown",
   "metadata": {},
   "source": [
    "# Unit testing\n",
    "\n",
    "Unit testing is a level of software/application testing. The purpose is to validate that each unit of the software performs as designed. A unit is the smallest testable part of any software. It usually has one or a few inputs and usually a single output \n",
    "\n",
    "![alt text](http://softwaretestingfundamentals.com/wp-content/uploads/2010/12/unittesting.jpg \"Testing Hierarchy\")\n",
    "\n",
    "[1]: http://softwaretestingfundamentals.com"
   ]
  },
  {
   "cell_type": "code",
   "execution_count": null,
   "metadata": {
    "ExecuteTime": {
     "end_time": "2019-02-24T16:16:40.534663Z",
     "start_time": "2019-02-24T16:16:39.321910Z"
    }
   },
   "outputs": [],
   "source": [
    "import unittest\n",
    "from test_griddef import GridDefTest"
   ]
  },
  {
   "cell_type": "code",
   "execution_count": null,
   "metadata": {
    "ExecuteTime": {
     "end_time": "2019-02-24T16:16:41.044299Z",
     "start_time": "2019-02-24T16:16:41.031336Z"
    },
    "scrolled": true
   },
   "outputs": [],
   "source": [
    "suite = unittest.TestLoader().loadTestsFromTestCase(GridDefTest)\n",
    "unittest.TextTestRunner(verbosity=2).run(suite)"
   ]
  },
  {
   "cell_type": "markdown",
   "metadata": {},
   "source": [
    "## Recursion"
   ]
  },
  {
   "cell_type": "code",
   "execution_count": null,
   "metadata": {
    "ExecuteTime": {
     "end_time": "2019-03-01T21:09:16.495077Z",
     "start_time": "2019-03-01T21:09:16.481113Z"
    },
    "code_folding": []
   },
   "outputs": [],
   "source": [
    "def grid_range(max_grid, index, interval, lower=True):\n",
    "    if lower:\n",
    "        if index - interval < 0:\n",
    "            return grid_range(max_grid, index, interval-1, True)\n",
    "        else:\n",
    "            return index - interval\n",
    "    else:\n",
    "        if index + interval > max_grid:\n",
    "            return grid_range(max_grid, index, interval-1, False)\n",
    "        else:\n",
    "            return index + interval"
   ]
  },
  {
   "cell_type": "code",
   "execution_count": null,
   "metadata": {
    "ExecuteTime": {
     "end_time": "2019-03-01T21:09:54.250487Z",
     "start_time": "2019-03-01T21:09:53.047892Z"
    }
   },
   "outputs": [],
   "source": [
    "import pygeostat as gs"
   ]
  },
  {
   "cell_type": "code",
   "execution_count": null,
   "metadata": {
    "ExecuteTime": {
     "end_time": "2019-03-01T21:10:25.278766Z",
     "start_time": "2019-03-01T21:10:25.274810Z"
    }
   },
   "outputs": [],
   "source": [
    "griddef = gs.GridDef('''100 0.5 1\n",
    "100 0.5 1\n",
    "1 0.5 1''')"
   ]
  },
  {
   "cell_type": "code",
   "execution_count": null,
   "metadata": {
    "ExecuteTime": {
     "end_time": "2019-03-01T21:11:02.613731Z",
     "start_time": "2019-03-01T21:11:02.606715Z"
    }
   },
   "outputs": [],
   "source": [
    "grid_range(griddef.nx,50,interval=5,lower=False)"
   ]
  },
  {
   "cell_type": "code",
   "execution_count": null,
   "metadata": {
    "ExecuteTime": {
     "end_time": "2019-03-01T21:11:14.470369Z",
     "start_time": "2019-03-01T21:11:14.463422Z"
    }
   },
   "outputs": [],
   "source": [
    "grid_range(griddef.nx,50,interval=5,lower=True)"
   ]
  },
  {
   "cell_type": "code",
   "execution_count": null,
   "metadata": {
    "ExecuteTime": {
     "end_time": "2019-03-01T21:11:19.981610Z",
     "start_time": "2019-03-01T21:11:19.974631Z"
    }
   },
   "outputs": [],
   "source": [
    "grid_range(griddef.nx,96,interval=5,lower=False)"
   ]
  },
  {
   "cell_type": "code",
   "execution_count": null,
   "metadata": {
    "ExecuteTime": {
     "end_time": "2019-03-01T21:11:29.495180Z",
     "start_time": "2019-03-01T21:11:29.488203Z"
    }
   },
   "outputs": [],
   "source": [
    "grid_range(griddef.nx,3,interval=5,lower=True)"
   ]
  },
  {
   "cell_type": "markdown",
   "metadata": {},
   "source": [
    "# Documentation\n",
    "\n",
    "Having rich documentation, makes it easier for others to use your code/software. Also, it is a required for future you to figure out what were you thinking when you wrote the code?!!"
   ]
  },
  {
   "cell_type": "markdown",
   "metadata": {},
   "source": [
    "Some recommendations:\n",
    "    - Documentation within code should be accurate and concise\n",
    "    - Don't use it to teach the user/other developers how to code\n",
    "    - Use markdown docs to complement your documentations \n",
    "    - For python: \n",
    "        - use __str__ to provide information that are useful for the user\n",
    "        - use __repr__ to provide information that are useful for another developer. Unambiguous representation of an object\n",
    "        - use the doc string to provide rich information about the method/class\n",
    "        - use sphinx package along with readthedocs to create maintainable documentations\n",
    "        \n",
    "        \n",
    "        \n",
    "[readthedocs](https://docs.readthedocs.io/en/latest/intro/getting-started-with-sphinx.html)"
   ]
  },
  {
   "cell_type": "code",
   "execution_count": null,
   "metadata": {
    "ExecuteTime": {
     "end_time": "2019-03-09T15:35:16.695829Z",
     "start_time": "2019-03-09T15:35:16.689844Z"
    },
    "code_folding": []
   },
   "outputs": [],
   "source": [
    "class Point2D:\n",
    "    \n",
    "    \n",
    "    def __init__(self, x, y):\n",
    "        self.x = x\n",
    "        self.y = y\n",
    "        \n",
    "    def __str__(self):\n",
    "        return ('A point in 2D space with x: {:.2f}, y: {:.2f}'.format(self.x, self.y))\n",
    "    \n",
    "    def __repr__(self):\n",
    "        return ('Point2D(x = {}, y= {})'.format(self.x, self.y))"
   ]
  },
  {
   "cell_type": "code",
   "execution_count": null,
   "metadata": {
    "ExecuteTime": {
     "end_time": "2019-03-09T15:35:17.051448Z",
     "start_time": "2019-03-09T15:35:17.047457Z"
    }
   },
   "outputs": [],
   "source": [
    "p = Point2D(1.234, 5.214)"
   ]
  },
  {
   "cell_type": "code",
   "execution_count": null,
   "metadata": {
    "ExecuteTime": {
     "end_time": "2019-03-09T15:35:17.756895Z",
     "start_time": "2019-03-09T15:35:17.752904Z"
    }
   },
   "outputs": [],
   "source": [
    "print(p)"
   ]
  },
  {
   "cell_type": "code",
   "execution_count": null,
   "metadata": {
    "ExecuteTime": {
     "end_time": "2019-03-09T15:35:18.928559Z",
     "start_time": "2019-03-09T15:35:18.921578Z"
    }
   },
   "outputs": [],
   "source": [
    "repr(p)"
   ]
  }
 ],
 "metadata": {
  "kernelspec": {
   "display_name": "Python 3",
   "language": "python",
   "name": "python3"
  },
  "language_info": {
   "codemirror_mode": {
    "name": "ipython",
    "version": 3
   },
   "file_extension": ".py",
   "mimetype": "text/x-python",
   "name": "python",
   "nbconvert_exporter": "python",
   "pygments_lexer": "ipython3",
   "version": "3.6.5"
  },
  "latex_envs": {
   "LaTeX_envs_menu_present": true,
   "autoclose": false,
   "autocomplete": true,
   "bibliofile": "biblio.bib",
   "cite_by": "apalike",
   "current_citInitial": 1,
   "eqLabelWithNumbers": true,
   "eqNumInitial": 1,
   "hotkeys": {
    "equation": "Ctrl-E",
    "itemize": "Ctrl-I"
   },
   "labels_anchors": false,
   "latex_user_defs": false,
   "report_style_numbering": false,
   "user_envs_cfg": false
  },
  "toc": {
   "base_numbering": 1,
   "nav_menu": {},
   "number_sections": true,
   "sideBar": true,
   "skip_h1_title": false,
   "title_cell": "Table of Contents",
   "title_sidebar": "Contents",
   "toc_cell": false,
   "toc_position": {
    "height": "calc(100% - 180px)",
    "left": "10px",
    "top": "150px",
    "width": "349px"
   },
   "toc_section_display": true,
   "toc_window_display": true
  }
 },
 "nbformat": 4,
 "nbformat_minor": 2
}
